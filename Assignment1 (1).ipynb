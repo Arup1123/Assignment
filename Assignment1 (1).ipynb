{
 "cells": [
  {
   "cell_type": "markdown",
   "id": "58713ad5",
   "metadata": {},
   "source": [
    "# Assignment1"
   ]
  },
  {
   "cell_type": "markdown",
   "id": "dfcaedd0",
   "metadata": {},
   "source": [
    "Q1. Create one variable containing following type of data:\n",
    "(i) string\n",
    "(ii) list\n",
    "(iii) float\n",
    "(iv) tuple"
   ]
  },
  {
   "cell_type": "code",
   "execution_count": null,
   "id": "674bfdde",
   "metadata": {},
   "outputs": [],
   "source": [
    "#Q1.ans:\n",
    "s=\"pwskills\"\n",
    "l=[1,2,3,4,5]\n",
    "f=1.5\n",
    "t=(a,e,i,o,u)"
   ]
  },
  {
   "cell_type": "code",
   "execution_count": null,
   "id": "22240f90",
   "metadata": {},
   "outputs": [],
   "source": [
    "Q2. Given are some following variables containing data:\n",
    "(i) var1=''\n",
    "(ii) var2='[DS,ML,Python]'\n",
    "(iii) var3=[DS,ML,Python]\n",
    "(iv) var4=1\n",
    "What will be the data type of the given variables.\n",
    "(i)ans: data type of var1 is 'str'\n",
    "(ii)ans: data type of var2 is 'str'\n",
    "(iii)ans: data type of var2 is 'list'\n",
    "(iv) ans: data type of var2 is 'int'    "
   ]
  },
  {
   "cell_type": "code",
   "execution_count": null,
   "id": "702a1478",
   "metadata": {},
   "outputs": [],
   "source": [
    "Q3. Explain the use of following operators using an example:\n",
    "(i) /\n",
    "(ii) %\n",
    "(iii) //\n",
    "(iv) **"
   ]
  },
  {
   "cell_type": "code",
   "execution_count": null,
   "id": "4d690bfb",
   "metadata": {},
   "outputs": [],
   "source": [
    "#(i)ans: For division, we can use '/' operator. '/'returns only float of data.\n",
    "# consider an example\n",
    "a=15\n",
    "b=3\n",
    "c=a/b\n",
    "print(c) # value of c is 5.0(float)\n"
   ]
  },
  {
   "cell_type": "code",
   "execution_count": null,
   "id": "8d0dd024",
   "metadata": {},
   "outputs": [],
   "source": [
    "#(ii)ans: To get remainder we use '%' (modulus operator).\n",
    "#example:\n",
    "x=7\n",
    "y=3\n",
    "z=x%y\n",
    "print(z) # value of z is 1"
   ]
  },
  {
   "cell_type": "code",
   "execution_count": null,
   "id": "c0d37184",
   "metadata": {},
   "outputs": [],
   "source": [
    "#(iii)ans: To devide and get integer value, we use '//' (floor division operator).If both operands are integer then '//' returns int type of data.\n",
    "# If at least one operand is float, then '//' returns float type of data.\n",
    "#example:\n",
    "m=9\n",
    "n=4\n",
    "k=m//n\n",
    "print(k) # value of k is 2\n",
    "a=3.5\n",
    "b=2\n",
    "c=a//b\n",
    "print(c) # value of c is 1.0"
   ]
  },
  {
   "cell_type": "code",
   "execution_count": null,
   "id": "c3d7ea1e",
   "metadata": {},
   "outputs": [],
   "source": [
    "#(iv)ans: To calculate power of any number, we use '**' operator.\n",
    "#consider\n",
    "x=2\n",
    "y=4\n",
    "z=x**y\n",
    "print(z) # value of z is 16"
   ]
  },
  {
   "cell_type": "code",
   "execution_count": null,
   "id": "a950403e",
   "metadata": {},
   "outputs": [],
   "source": [
    "#Q4. Create a list of length 10 of your choice containing multiple types of data. Using for loop print the element and its data type.\n",
    "\n",
    "l=[1,'a',3.5,True,3+4j,\"pwskills\",(0,1),2,5.5,'xyz']\n",
    "for i in l:\n",
    "    print(i,type(i))"
   ]
  },
  {
   "cell_type": "code",
   "execution_count": null,
   "id": "eb2cd93b",
   "metadata": {},
   "outputs": [],
   "source": [
    "#Q5. Using a while loop, verify if the number A is purely divisible by number B and if so then how many times it can be divisible.\n",
    "\n",
    "A=int(input(\"Enter the value of A: \"))\n",
    "B=int(input(\"Enter the value of B: \"))\n",
    "times=0\n",
    "while(A!=0):\n",
    "    if A%B==0:\n",
    "        times+=1\n",
    "        A-=B\n",
    "    else:\n",
    "        print(A,\"is not divisible by\",B)\n",
    "        break\n",
    "else:        \n",
    "    print(\"How many times it can be divisible?\")\n",
    "    print(times)\n",
    "        "
   ]
  },
  {
   "cell_type": "code",
   "execution_count": null,
   "id": "05d76116",
   "metadata": {},
   "outputs": [],
   "source": [
    "#Q6. Create a list contain int type of data. Using for loop and if-else condition print if the element is divisible by 3 or not.\n",
    "\n",
    "m=[1,2,3,6,7,9,10,15,64,21,34,87,90,91,23,26,25,45,56,78,61,8,77,89,101]\n",
    "for x in m:\n",
    "    if x%3==0:\n",
    "        print(x,\"is divisible by 3\")\n",
    "    else:\n",
    "        print(x,\"is not divisible by 3\")\n",
    "        \n",
    "        "
   ]
  },
  {
   "cell_type": "code",
   "execution_count": null,
   "id": "2aaa4726",
   "metadata": {},
   "outputs": [],
   "source": [
    "#Q7. What do you understand about mutable and immutable data types? Give examples for both showing this property.\n",
    "#ans: Mutable data types means we can change, edit the data. But in case of immutable,we can not change.\n",
    "#consider example:\n",
    "l=[1,2,3,\"a\",\"xyz\"]\n",
    "l[3]=3.5\n",
    "print(l) # here changing the index 3 of the list,assign 3.5 in l[3] in place of \"a\" and l=[1,2,3,3.5,\"xyz\"] \n",
    "t=(1,2,3,4)\n",
    "t[1]=\"a\" # here we get an error,we can not change any element in tupple,since tupple is immutable."
   ]
  },
  {
   "cell_type": "code",
   "execution_count": null,
   "id": "1b377b6c",
   "metadata": {},
   "outputs": [],
   "source": []
  }
 ],
 "metadata": {
  "kernelspec": {
   "display_name": "Python 3 (ipykernel)",
   "language": "python",
   "name": "python3"
  },
  "language_info": {
   "codemirror_mode": {
    "name": "ipython",
    "version": 3
   },
   "file_extension": ".py",
   "mimetype": "text/x-python",
   "name": "python",
   "nbconvert_exporter": "python",
   "pygments_lexer": "ipython3",
   "version": "3.10.9"
  }
 },
 "nbformat": 4,
 "nbformat_minor": 5
}
